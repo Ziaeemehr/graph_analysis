{
 "cells": [
  {
   "cell_type": "markdown",
   "metadata": {},
   "source": [
    "# Basic use example of visJS2jupyter\n",
    "\n",
    "------------\n",
    "\n",
    "Authors: Brin Rosenthal (sbrosenthal@ucsd.edu), Mikayla Webster (m1webste@ucsd.edu), Julia Len (ljen@ucsd.edu)\n",
    "\n",
    "-----------\n"
   ]
  },
  {
   "cell_type": "markdown",
   "metadata": {},
   "source": [
    "This notebook has been tested, and should work with both networkx versions 1.11 and 2.1 and both Python 2 and 3"
   ]
  },
  {
   "cell_type": "markdown",
   "metadata": {},
   "source": [
    "## Import packages"
   ]
  },
  {
   "cell_type": "code",
   "execution_count": 1,
   "metadata": {},
   "outputs": [],
   "source": [
    "import networkx as nx\n",
    "import visJS2jupyter.visJS_module"
   ]
  },
  {
   "cell_type": "markdown",
   "metadata": {},
   "source": [
    "# Draw a simple network with default parameters"
   ]
  },
  {
   "cell_type": "code",
   "execution_count": 2,
   "metadata": {},
   "outputs": [],
   "source": [
    "G = nx.connected_watts_strogatz_graph(30, 5, 0.2)\n",
    "nodes = list(G.nodes()) # must cast to list to maintain compatibility between nx 1.11 and 2.0\n",
    "edges = list(G.edges()) # will return an \"EdgeView\" object in nx 2.0"
   ]
  },
  {
   "cell_type": "code",
   "execution_count": 3,
   "metadata": {},
   "outputs": [
    {
     "data": {
      "text/html": [
       "<!doctype html><html><head>  <title>Network | Basic usage</title></head><body><script type=\"text/javascript\">function setUpFrame() {     var frame = window.frames[\"style_file0\"];    frame.runVis([{\"id\": 0, \"x\": -22.08413006992988, \"y\": -7.603749583245141, \"node_shape\": \"dot\", \"color\": \"#8BA8D3\", \"border_width\": 0, \"title\": 0, \"degree\": 3.0}, {\"id\": 1, \"x\": -25.094974052514793, \"y\": -140.20547466610282, \"node_shape\": \"dot\", \"color\": \"#8BA8D3\", \"border_width\": 0, \"title\": 1, \"degree\": 3.0}, {\"id\": 2, \"x\": 22.804238555309507, \"y\": -227.01540193678105, \"node_shape\": \"dot\", \"color\": \"#8BA8D3\", \"border_width\": 0, \"title\": 2, \"degree\": 3.0}, {\"id\": 3, \"x\": 49.00606255316294, \"y\": -87.11284839492863, \"node_shape\": \"dot\", \"color\": \"#8BA8D3\", \"border_width\": 0, \"title\": 3, \"degree\": 3.0}, {\"id\": 4, \"x\": 39.91585712633295, \"y\": 74.6968810284489, \"node_shape\": \"dot\", \"color\": \"#8BA8D3\", \"border_width\": 0, \"title\": 4, \"degree\": 3.0}, {\"id\": 5, \"x\": -180.6514759916499, \"y\": 283.2743796765134, \"node_shape\": \"dot\", \"color\": \"#8BA8D3\", \"border_width\": 0, \"title\": 5, \"degree\": 3.0}, {\"id\": 6, \"x\": -67.3321047427028, \"y\": 140.15110486567352, \"node_shape\": \"dot\", \"color\": \"#8BA8D3\", \"border_width\": 0, \"title\": 6, \"degree\": 3.0}, {\"id\": 7, \"x\": -140.82742579277942, \"y\": 213.6835208587886, \"node_shape\": \"dot\", \"color\": \"#8BA8D3\", \"border_width\": 0, \"title\": 7, \"degree\": 3.0}, {\"id\": 8, \"x\": -171.71354270600486, \"y\": 150.012881885649, \"node_shape\": \"dot\", \"color\": \"#8BA8D3\", \"border_width\": 0, \"title\": 8, \"degree\": 3.0}, {\"id\": 9, \"x\": -114.08910289595697, \"y\": 164.8042457210408, \"node_shape\": \"dot\", \"color\": \"#8BA8D3\", \"border_width\": 0, \"title\": 9, \"degree\": 3.0}, {\"id\": 10, \"x\": -115.8894638073258, \"y\": 33.84566618005698, \"node_shape\": \"dot\", \"color\": \"#8BA8D3\", \"border_width\": 0, \"title\": 10, \"degree\": 3.0}, {\"id\": 11, \"x\": 47.28597130639264, \"y\": -48.247071922753555, \"node_shape\": \"dot\", \"color\": \"#8BA8D3\", \"border_width\": 0, \"title\": 11, \"degree\": 3.0}, {\"id\": 12, \"x\": 147.86604448842309, \"y\": -83.1579380955508, \"node_shape\": \"dot\", \"color\": \"#8BA8D3\", \"border_width\": 0, \"title\": 12, \"degree\": 3.0}, {\"id\": 13, \"x\": 153.04155702995797, \"y\": -149.30018496175114, \"node_shape\": \"dot\", \"color\": \"#8BA8D3\", \"border_width\": 0, \"title\": 13, \"degree\": 3.0}, {\"id\": 14, \"x\": 260.2771403745016, \"y\": -100.87771594985377, \"node_shape\": \"dot\", \"color\": \"#8BA8D3\", \"border_width\": 0, \"title\": 14, \"degree\": 3.0}, {\"id\": 15, \"x\": 299.99999999999994, \"y\": -2.0295023985496417, \"node_shape\": \"dot\", \"color\": \"#8BA8D3\", \"border_width\": 0, \"title\": 15, \"degree\": 3.0}, {\"id\": 16, \"x\": 221.4686804786453, \"y\": -40.11581448164817, \"node_shape\": \"dot\", \"color\": \"#8BA8D3\", \"border_width\": 0, \"title\": 16, \"degree\": 3.0}, {\"id\": 17, \"x\": 193.64733515781666, \"y\": 76.268891105626, \"node_shape\": \"dot\", \"color\": \"#8BA8D3\", \"border_width\": 0, \"title\": 17, \"degree\": 3.0}, {\"id\": 18, \"x\": 60.027856932998105, \"y\": 176.64998346730997, \"node_shape\": \"dot\", \"color\": \"#8BA8D3\", \"border_width\": 0, \"title\": 18, \"degree\": 3.0}, {\"id\": 19, \"x\": 75.34238715074677, \"y\": 35.34895830221747, \"node_shape\": \"dot\", \"color\": \"#8BA8D3\", \"border_width\": 0, \"title\": 19, \"degree\": 3.0}, {\"id\": 20, \"x\": 11.493179609887596, \"y\": 116.23093986609614, \"node_shape\": \"dot\", \"color\": \"#8BA8D3\", \"border_width\": 0, \"title\": 20, \"degree\": 3.0}, {\"id\": 21, \"x\": -80.38441428076221, \"y\": 95.15023496016322, \"node_shape\": \"dot\", \"color\": \"#8BA8D3\", \"border_width\": 0, \"title\": 21, \"degree\": 3.0}, {\"id\": 22, \"x\": 11.420997750851413, \"y\": -23.682116056837334, \"node_shape\": \"dot\", \"color\": \"#8BA8D3\", \"border_width\": 0, \"title\": 22, \"degree\": 3.0}, {\"id\": 23, \"x\": -194.37140573245244, \"y\": -3.0958112195025373, \"node_shape\": \"dot\", \"color\": \"#8BA8D3\", \"border_width\": 0, \"title\": 23, \"degree\": 3.0}, {\"id\": 24, \"x\": -115.55308111848609, \"y\": -75.44748214480207, \"node_shape\": \"dot\", \"color\": \"#8BA8D3\", \"border_width\": 0, \"title\": 24, \"degree\": 3.0}, {\"id\": 25, \"x\": -164.22491650166245, \"y\": -21.761700046695566, \"node_shape\": \"dot\", \"color\": \"#8BA8D3\", \"border_width\": 0, \"title\": 25, \"degree\": 3.0}, {\"id\": 26, \"x\": -215.3742039241721, \"y\": -106.40769317876196, \"node_shape\": \"dot\", \"color\": \"#8BA8D3\", \"border_width\": 0, \"title\": 26, \"degree\": 3.0}, {\"id\": 27, \"x\": -89.32383209204684, \"y\": -145.2558094484093, \"node_shape\": \"dot\", \"color\": \"#8BA8D3\", \"border_width\": 0, \"title\": 27, \"degree\": 3.0}, {\"id\": 28, \"x\": 65.8717776158564, \"y\": -117.27074235493875, \"node_shape\": \"dot\", \"color\": \"#8BA8D3\", \"border_width\": 0, \"title\": 28, \"degree\": 3.0}, {\"id\": 29, \"x\": 37.444987577563296, \"y\": -181.5306310764711, \"node_shape\": \"dot\", \"color\": \"#8BA8D3\", \"border_width\": 0, \"title\": 29, \"degree\": 3.0}], [{\"source\": 0, \"target\": 1, \"title\": \"test\"}, {\"source\": 0, \"target\": 28, \"title\": \"test\"}, {\"source\": 0, \"target\": 6, \"title\": \"test\"}, {\"source\": 1, \"target\": 2, \"title\": \"test\"}, {\"source\": 1, \"target\": 3, \"title\": \"test\"}, {\"source\": 1, \"target\": 29, \"title\": \"test\"}, {\"source\": 1, \"target\": 24, \"title\": \"test\"}, {\"source\": 2, \"target\": 3, \"title\": \"test\"}, {\"source\": 2, \"target\": 29, \"title\": \"test\"}, {\"source\": 3, \"target\": 4, \"title\": \"test\"}, {\"source\": 3, \"target\": 29, \"title\": \"test\"}, {\"source\": 3, \"target\": 19, \"title\": \"test\"}, {\"source\": 4, \"target\": 6, \"title\": \"test\"}, {\"source\": 4, \"target\": 20, \"title\": \"test\"}, {\"source\": 5, \"target\": 7, \"title\": \"test\"}, {\"source\": 5, \"target\": 9, \"title\": \"test\"}, {\"source\": 6, \"target\": 7, \"title\": \"test\"}, {\"source\": 6, \"target\": 8, \"title\": \"test\"}, {\"source\": 6, \"target\": 9, \"title\": \"test\"}, {\"source\": 7, \"target\": 8, \"title\": \"test\"}, {\"source\": 7, \"target\": 9, \"title\": \"test\"}, {\"source\": 7, \"target\": 21, \"title\": \"test\"}, {\"source\": 8, \"target\": 9, \"title\": \"test\"}, {\"source\": 8, \"target\": 10, \"title\": \"test\"}, {\"source\": 9, \"target\": 18, \"title\": \"test\"}, {\"source\": 9, \"target\": 25, \"title\": \"test\"}, {\"source\": 10, \"target\": 11, \"title\": \"test\"}, {\"source\": 10, \"target\": 23, \"title\": \"test\"}, {\"source\": 11, \"target\": 12, \"title\": \"test\"}, {\"source\": 11, \"target\": 13, \"title\": \"test\"}, {\"source\": 11, \"target\": 19, \"title\": \"test\"}, {\"source\": 12, \"target\": 13, \"title\": \"test\"}, {\"source\": 12, \"target\": 14, \"title\": \"test\"}, {\"source\": 12, \"target\": 22, \"title\": \"test\"}, {\"source\": 13, \"target\": 14, \"title\": \"test\"}, {\"source\": 13, \"target\": 29, \"title\": \"test\"}, {\"source\": 14, \"target\": 15, \"title\": \"test\"}, {\"source\": 14, \"target\": 16, \"title\": \"test\"}, {\"source\": 15, \"target\": 16, \"title\": \"test\"}, {\"source\": 15, \"target\": 17, \"title\": \"test\"}, {\"source\": 16, \"target\": 17, \"title\": \"test\"}, {\"source\": 16, \"target\": 28, \"title\": \"test\"}, {\"source\": 17, \"target\": 18, \"title\": \"test\"}, {\"source\": 17, \"target\": 19, \"title\": \"test\"}, {\"source\": 18, \"target\": 20, \"title\": \"test\"}, {\"source\": 19, \"target\": 21, \"title\": \"test\"}, {\"source\": 20, \"target\": 21, \"title\": \"test\"}, {\"source\": 20, \"target\": 22, \"title\": \"test\"}, {\"source\": 21, \"target\": 23, \"title\": \"test\"}, {\"source\": 22, \"target\": 24, \"title\": \"test\"}, {\"source\": 23, \"target\": 24, \"title\": \"test\"}, {\"source\": 23, \"target\": 25, \"title\": \"test\"}, {\"source\": 23, \"target\": 26, \"title\": \"test\"}, {\"source\": 24, \"target\": 25, \"title\": \"test\"}, {\"source\": 25, \"target\": 26, \"title\": \"test\"}, {\"source\": 25, \"target\": 27, \"title\": \"test\"}, {\"source\": 26, \"target\": 27, \"title\": \"test\"}, {\"source\": 27, \"target\": 28, \"title\": \"test\"}, {\"source\": 27, \"target\": 29, \"title\": \"test\"}, {\"source\": 28, \"target\": 29, \"title\": \"test\"}]);}</script><iframe name=\"style_file0\" src=\"style_file0.html\" width=\"100%;\" height=\"805px\"></iframe></body></html>"
      ],
      "text/plain": [
       "<IPython.core.display.HTML object>"
      ]
     },
     "execution_count": 3,
     "metadata": {},
     "output_type": "execute_result"
    }
   ],
   "source": [
    "# define the initial positions of the nodes using networkx's spring_layout function, and add to the nodes_dict.\n",
    "pos = nx.spring_layout(G)\n",
    "\n",
    "nodes_dict = [{\"id\":n,\n",
    "              \"x\":pos[n][0]*300,\n",
    "              \"y\":pos[n][1]*300} for n in nodes]\n",
    "\n",
    "node_map = dict(zip(nodes,range(len(nodes))))  # map to indices for source/target in edges\n",
    "\n",
    "edges_dict = [{\"source\":node_map[edges[i][0]], \"target\":node_map[edges[i][1]], \n",
    "              \"title\":'test'} for i in range(len(edges))]\n",
    "\n",
    "visJS2jupyter.visJS_module.visjs_network(nodes_dict, edges_dict)"
   ]
  },
  {
   "cell_type": "code",
   "execution_count": null,
   "metadata": {
    "collapsed": true
   },
   "outputs": [],
   "source": []
  }
 ],
 "metadata": {
  "kernelspec": {
   "display_name": "Python 3",
   "language": "python",
   "name": "python3"
  },
  "language_info": {
   "codemirror_mode": {
    "name": "ipython",
    "version": 3
   },
   "file_extension": ".py",
   "mimetype": "text/x-python",
   "name": "python",
   "nbconvert_exporter": "python",
   "pygments_lexer": "ipython3",
   "version": "3.8.5"
  }
 },
 "nbformat": 4,
 "nbformat_minor": 1
}
