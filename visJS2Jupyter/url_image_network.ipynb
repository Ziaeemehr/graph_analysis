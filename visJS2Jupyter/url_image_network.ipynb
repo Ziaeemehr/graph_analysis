{
 "cells": [
  {
   "cell_type": "markdown",
   "metadata": {},
   "source": [
    "# Using a URL image in visJS2jupyter\n",
    "\n",
    "------------\n",
    "\n",
    "Authors: Brin Rosenthal (sbrosenthal@ucsd.edu), Mikayla Webster (m1webste@ucsd.edu), Julia Len (jlen@ucsd.edu)\n",
    "\n",
    "-----------"
   ]
  },
  {
   "cell_type": "markdown",
   "metadata": {},
   "source": [
    "## Import packages"
   ]
  },
  {
   "cell_type": "code",
   "execution_count": 1,
   "metadata": {},
   "outputs": [],
   "source": [
    "import matplotlib as mpl\n",
    "import networkx as nx\n",
    "import visJS2jupyter.visJS_module as visJS_module\n",
    "# reload(visJS_module)"
   ]
  },
  {
   "cell_type": "code",
   "execution_count": 2,
   "metadata": {},
   "outputs": [],
   "source": [
    "# create a simple graph\n",
    "G = nx.connected_watts_strogatz_graph(30,5,.2)\n",
    "nodes = list(G.nodes()) # type cast to list in order to make compatible with networkx 1.11 and 2.0\n",
    "edges = list(G.edges()) # for nx 2.0, returns an \"EdgeView\" object rather than an iterable"
   ]
  },
  {
   "cell_type": "markdown",
   "metadata": {},
   "source": [
    "# Map node attributes to visual properties, and style the nodes and edges\n",
    "\n",
    "- To map node attributes to properties, simply add the property to the graph as a node-attribute, and use the return_node_to_color function"
   ]
  },
  {
   "cell_type": "code",
   "execution_count": 3,
   "metadata": {},
   "outputs": [],
   "source": [
    "degree = dict(G.degree())\n",
    "nx.set_node_attributes(G, name = 'degree', values = degree) "
   ]
  },
  {
   "cell_type": "markdown",
   "metadata": {},
   "source": [
    "<a id='interactive_network'></a>\n",
    "### Interactive network"
   ]
  },
  {
   "cell_type": "code",
   "execution_count": 4,
   "metadata": {},
   "outputs": [
    {
     "data": {
      "text/html": [
       "<!doctype html><html><head>  <title>Network | Basic usage</title></head><body><script type=\"text/javascript\">function setUpFrame() {     var frame = window.frames[\"style_file0\"];    frame.runVis([{\"id\": 0, \"degree\": 5, \"node_shape\": \"image\", \"x\": -572.1466773763793, \"y\": 62.65829855579923, \"color\": \"#8BA8D3\", \"border_width\": 0, \"title\": 0}, {\"id\": 1, \"degree\": 5, \"node_shape\": \"image\", \"x\": -407.59646423720966, \"y\": -83.38421987725191, \"color\": \"#8BA8D3\", \"border_width\": 0, \"title\": 1}, {\"id\": 2, \"degree\": 3, \"node_shape\": \"image\", \"x\": -390.3324456871793, \"y\": 37.63069551105808, \"color\": \"#8BA8D3\", \"border_width\": 0, \"title\": 2}, {\"id\": 3, \"degree\": 3, \"node_shape\": \"image\", \"x\": -380.38126157622395, \"y\": 181.42083523307315, \"color\": \"#8BA8D3\", \"border_width\": 0, \"title\": 3}, {\"id\": 4, \"degree\": 4, \"node_shape\": \"image\", \"x\": -166.10800729632814, \"y\": 165.31255761335342, \"color\": \"#8BA8D3\", \"border_width\": 0, \"title\": 4}, {\"id\": 5, \"degree\": 4, \"node_shape\": \"image\", \"x\": -53.49308651069909, \"y\": 226.7183543092282, \"color\": \"#8BA8D3\", \"border_width\": 0, \"title\": 5}, {\"id\": 6, \"degree\": 5, \"node_shape\": \"image\", \"x\": 165.71372143173392, \"y\": 204.69217157408698, \"color\": \"#8BA8D3\", \"border_width\": 0, \"title\": 6}, {\"id\": 7, \"degree\": 5, \"node_shape\": \"image\", \"x\": 225.92653591965012, \"y\": 55.20872876665959, \"color\": \"#8BA8D3\", \"border_width\": 0, \"title\": 7}, {\"id\": 8, \"degree\": 4, \"node_shape\": \"image\", \"x\": 404.0088923046742, \"y\": 55.88414236048455, \"color\": \"#8BA8D3\", \"border_width\": 0, \"title\": 8}, {\"id\": 9, \"degree\": 4, \"node_shape\": \"image\", \"x\": 389.06163029013675, \"y\": -180.5880281237714, \"color\": \"#8BA8D3\", \"border_width\": 0, \"title\": 9}, {\"id\": 10, \"degree\": 3, \"node_shape\": \"image\", \"x\": 241.96350169669384, \"y\": -347.7583779627059, \"color\": \"#8BA8D3\", \"border_width\": 0, \"title\": 10}, {\"id\": 11, \"degree\": 4, \"node_shape\": \"image\", \"x\": 265.4115146410435, \"y\": -231.7976391312258, \"color\": \"#8BA8D3\", \"border_width\": 0, \"title\": 11}, {\"id\": 12, \"degree\": 5, \"node_shape\": \"image\", \"x\": 12.391787954438891, \"y\": -155.59530411112408, \"color\": \"#8BA8D3\", \"border_width\": 0, \"title\": 12}, {\"id\": 13, \"degree\": 3, \"node_shape\": \"image\", \"x\": 328.7481253002521, \"y\": 7.809717589626496, \"color\": \"#8BA8D3\", \"border_width\": 0, \"title\": 13}, {\"id\": 14, \"degree\": 5, \"node_shape\": \"image\", \"x\": 282.57821494034846, \"y\": 132.27377424522317, \"color\": \"#8BA8D3\", \"border_width\": 0, \"title\": 14}, {\"id\": 15, \"degree\": 4, \"node_shape\": \"image\", \"x\": 431.5998615384458, \"y\": 268.53309700817493, \"color\": \"#8BA8D3\", \"border_width\": 0, \"title\": 15}, {\"id\": 16, \"degree\": 4, \"node_shape\": \"image\", \"x\": 412.09652506307873, \"y\": 383.90089762068857, \"color\": \"#8BA8D3\", \"border_width\": 0, \"title\": 16}, {\"id\": 17, \"degree\": 4, \"node_shape\": \"image\", \"x\": 543.350051476063, \"y\": 362.9390774528154, \"color\": \"#8BA8D3\", \"border_width\": 0, \"title\": 17}, {\"id\": 18, \"degree\": 4, \"node_shape\": \"image\", \"x\": 317.36058323195766, \"y\": 227.256365915194, \"color\": \"#8BA8D3\", \"border_width\": 0, \"title\": 18}, {\"id\": 19, \"degree\": 3, \"node_shape\": \"image\", \"x\": 481.6334595328301, \"y\": 184.56458613884377, \"color\": \"#8BA8D3\", \"border_width\": 0, \"title\": 19}, {\"id\": 20, \"degree\": 3, \"node_shape\": \"image\", \"x\": 7.270135816367678, \"y\": 28.659630548543692, \"color\": \"#8BA8D3\", \"border_width\": 0, \"title\": 20}, {\"id\": 21, \"degree\": 4, \"node_shape\": \"image\", \"x\": 342.5143879903812, \"y\": -40.78765439580309, \"color\": \"#8BA8D3\", \"border_width\": 0, \"title\": 21}, {\"id\": 22, \"degree\": 4, \"node_shape\": \"image\", \"x\": 19.422288368175348, \"y\": -219.7557478699074, \"color\": \"#8BA8D3\", \"border_width\": 0, \"title\": 22}, {\"id\": 23, \"degree\": 4, \"node_shape\": \"image\", \"x\": -157.64154586438934, \"y\": -345.4886672904054, \"color\": \"#8BA8D3\", \"border_width\": 0, \"title\": 23}, {\"id\": 24, \"degree\": 5, \"node_shape\": \"image\", \"x\": -279.48919537789993, \"y\": -238.7988370762368, \"color\": \"#8BA8D3\", \"border_width\": 0, \"title\": 24}, {\"id\": 25, \"degree\": 4, \"node_shape\": \"image\", \"x\": -388.8003643656532, \"y\": -341.774250352915, \"color\": \"#8BA8D3\", \"border_width\": 0, \"title\": 25}, {\"id\": 26, \"degree\": 4, \"node_shape\": \"image\", \"x\": -479.39010232176867, \"y\": -233.4156291877297, \"color\": \"#8BA8D3\", \"border_width\": 0, \"title\": 26}, {\"id\": 27, \"degree\": 4, \"node_shape\": \"image\", \"x\": -306.4557823843091, \"y\": -34.45127933179239, \"color\": \"#8BA8D3\", \"border_width\": 0, \"title\": 27}, {\"id\": 28, \"degree\": 4, \"node_shape\": \"image\", \"x\": -589.2162844982327, \"y\": -94.72694485013193, \"color\": \"#8BA8D3\", \"border_width\": 0, \"title\": 28}, {\"id\": 29, \"degree\": 3, \"node_shape\": \"image\", \"x\": -700.0, \"y\": -37.140350881849166, \"color\": \"#8BA8D3\", \"border_width\": 0, \"title\": 29}], [{\"source\": 0, \"target\": 1, \"color\": \"gray\"}, {\"source\": 0, \"target\": 29, \"color\": \"gray\"}, {\"source\": 0, \"target\": 2, \"color\": \"gray\"}, {\"source\": 0, \"target\": 28, \"color\": \"gray\"}, {\"source\": 0, \"target\": 3, \"color\": \"gray\"}, {\"source\": 1, \"target\": 3, \"color\": \"gray\"}, {\"source\": 1, \"target\": 29, \"color\": \"gray\"}, {\"source\": 1, \"target\": 12, \"color\": \"gray\"}, {\"source\": 1, \"target\": 25, \"color\": \"gray\"}, {\"source\": 2, \"target\": 4, \"color\": \"gray\"}, {\"source\": 2, \"target\": 24, \"color\": \"gray\"}, {\"source\": 3, \"target\": 5, \"color\": \"gray\"}, {\"source\": 4, \"target\": 5, \"color\": \"gray\"}, {\"source\": 4, \"target\": 6, \"color\": \"gray\"}, {\"source\": 4, \"target\": 27, \"color\": \"gray\"}, {\"source\": 5, \"target\": 6, \"color\": \"gray\"}, {\"source\": 5, \"target\": 7, \"color\": \"gray\"}, {\"source\": 6, \"target\": 7, \"color\": \"gray\"}, {\"source\": 6, \"target\": 8, \"color\": \"gray\"}, {\"source\": 6, \"target\": 19, \"color\": \"gray\"}, {\"source\": 7, \"target\": 8, \"color\": \"gray\"}, {\"source\": 7, \"target\": 9, \"color\": \"gray\"}, {\"source\": 7, \"target\": 21, \"color\": \"gray\"}, {\"source\": 8, \"target\": 9, \"color\": \"gray\"}, {\"source\": 8, \"target\": 14, \"color\": \"gray\"}, {\"source\": 9, \"target\": 10, \"color\": \"gray\"}, {\"source\": 9, \"target\": 11, \"color\": \"gray\"}, {\"source\": 10, \"target\": 11, \"color\": \"gray\"}, {\"source\": 10, \"target\": 12, \"color\": \"gray\"}, {\"source\": 11, \"target\": 12, \"color\": \"gray\"}, {\"source\": 11, \"target\": 13, \"color\": \"gray\"}, {\"source\": 12, \"target\": 14, \"color\": \"gray\"}, {\"source\": 12, \"target\": 23, \"color\": \"gray\"}, {\"source\": 13, \"target\": 14, \"color\": \"gray\"}, {\"source\": 13, \"target\": 15, \"color\": \"gray\"}, {\"source\": 14, \"target\": 15, \"color\": \"gray\"}, {\"source\": 14, \"target\": 16, \"color\": \"gray\"}, {\"source\": 15, \"target\": 16, \"color\": \"gray\"}, {\"source\": 15, \"target\": 17, \"color\": \"gray\"}, {\"source\": 16, \"target\": 17, \"color\": \"gray\"}, {\"source\": 16, \"target\": 18, \"color\": \"gray\"}, {\"source\": 17, \"target\": 18, \"color\": \"gray\"}, {\"source\": 17, \"target\": 19, \"color\": \"gray\"}, {\"source\": 18, \"target\": 20, \"color\": \"gray\"}, {\"source\": 18, \"target\": 21, \"color\": \"gray\"}, {\"source\": 19, \"target\": 21, \"color\": \"gray\"}, {\"source\": 20, \"target\": 22, \"color\": \"gray\"}, {\"source\": 20, \"target\": 27, \"color\": \"gray\"}, {\"source\": 21, \"target\": 22, \"color\": \"gray\"}, {\"source\": 22, \"target\": 23, \"color\": \"gray\"}, {\"source\": 22, \"target\": 24, \"color\": \"gray\"}, {\"source\": 23, \"target\": 24, \"color\": \"gray\"}, {\"source\": 23, \"target\": 25, \"color\": \"gray\"}, {\"source\": 24, \"target\": 25, \"color\": \"gray\"}, {\"source\": 24, \"target\": 26, \"color\": \"gray\"}, {\"source\": 25, \"target\": 26, \"color\": \"gray\"}, {\"source\": 26, \"target\": 27, \"color\": \"gray\"}, {\"source\": 26, \"target\": 28, \"color\": \"gray\"}, {\"source\": 27, \"target\": 28, \"color\": \"gray\"}, {\"source\": 28, \"target\": 29, \"color\": \"gray\"}]);}</script><iframe name=\"style_file0\" src=\"style_file0.html\" width=\"100%;\" height=\"805px\"></iframe></body></html>"
      ],
      "text/plain": [
       "<IPython.core.display.HTML object>"
      ]
     },
     "execution_count": 4,
     "metadata": {},
     "output_type": "execute_result"
    }
   ],
   "source": [
    "# set node initial positions using networkx's spring_layout function\n",
    "pos = nx.spring_layout(G)\n",
    "\n",
    "# set per-node attributes\n",
    "nodes_dict = [{\"id\":n,\n",
    "               \"degree\":nx.degree(G,n),\n",
    "               \"node_shape\": 'image', # must set node shape to \"image\"\n",
    "               \"x\":pos[n][0]*700,\n",
    "               \"y\":pos[n][1]*700} for n in nodes\n",
    "              ]\n",
    "\n",
    "# map to indices for source/target in edges\n",
    "node_map = dict(zip(nodes,range(len(nodes))))\n",
    "\n",
    "# set per-edge attributes\n",
    "edges_dict = [{\"source\":node_map[edges[i][0]], \"target\":node_map[edges[i][1]], \n",
    "              \"color\":\"gray\"} for i in range(len(edges))]\n",
    "\n",
    "# url iage to use as node shape\n",
    "url = 'https://cdn0.iconfinder.com/data/icons/kids-paint/512/hedgehog-512.png'\n",
    "\n",
    "# set network-wide style parameters\n",
    "visJS_module.visjs_network(nodes_dict,edges_dict,\n",
    "                          node_size_multiplier=10,\n",
    "                          node_size_transform = '',\n",
    "                          node_font_size=25,\n",
    "                          edge_arrow_to=True,\n",
    "                          physics_enabled=True,\n",
    "                          edge_color_highlight='#8A324E',\n",
    "                          edge_color_hover='#8BADD3',\n",
    "                          edge_width=3,\n",
    "                          max_velocity=15,\n",
    "                          node_image = url, # specify url here\n",
    "                          min_velocity=1)\n",
    "\n"
   ]
  },
  {
   "cell_type": "code",
   "execution_count": null,
   "metadata": {
    "collapsed": true
   },
   "outputs": [],
   "source": []
  }
 ],
 "metadata": {
  "kernelspec": {
   "display_name": "Python 3",
   "language": "python",
   "name": "python3"
  },
  "language_info": {
   "codemirror_mode": {
    "name": "ipython",
    "version": 3
   },
   "file_extension": ".py",
   "mimetype": "text/x-python",
   "name": "python",
   "nbconvert_exporter": "python",
   "pygments_lexer": "ipython3",
   "version": "3.8.5"
  }
 },
 "nbformat": 4,
 "nbformat_minor": 1
}
