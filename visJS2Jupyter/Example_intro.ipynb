{
 "cells": [
  {
   "cell_type": "code",
   "execution_count": 17,
   "id": "macro-lewis",
   "metadata": {},
   "outputs": [],
   "source": [
    "import networkx as nx\n",
    "import matplotlib as mpl\n",
    "import visJS2jupyter.visJS_module\n",
    "import visJS2jupyter.visualizations as visualizations"
   ]
  },
  {
   "cell_type": "code",
   "execution_count": 18,
   "id": "severe-gates",
   "metadata": {},
   "outputs": [],
   "source": [
    "G1 = nx.connected_watts_strogatz_graph(10,5,.1)\n",
    "G2 = nx.connected_watts_strogatz_graph(10,5,.1)\n",
    "old_nodes = range(5)\n",
    "new_nodes = range(10,15)\n",
    "new_node_labels = dict(zip(old_nodes,new_nodes))\n",
    "G2 = nx.relabel_nodes(G2,new_node_labels)"
   ]
  },
  {
   "cell_type": "code",
   "execution_count": 20,
   "id": "weekly-crazy",
   "metadata": {
    "scrolled": true
   },
   "outputs": [
    {
     "data": {
      "text/html": [
       "<!doctype html><html><head>  <title>Network | Basic usage</title></head><body><script type=\"text/javascript\">function setUpFrame() {     var frame = window.frames[\"style_file2\"];    frame.runVis([{\"id\": \"0\", \"border_width\": 0, \"color\": \"rgba(256, 25, 0, 1.0)\", \"degree\": 3, \"node_label\": \"0\", \"node_shape\": \"dot\", \"node_size\": 50, \"title\": \"graph 1<br/>0\", \"x\": 536.7554543616209, \"y\": -953.2178602887747}, {\"id\": \"1\", \"border_width\": 0, \"color\": \"rgba(256, 25, 0, 1.0)\", \"degree\": 4, \"node_label\": \"1\", \"node_shape\": \"dot\", \"node_size\": 50, \"title\": \"graph 1<br/>1\", \"x\": 416.7886897858287, \"y\": -630.7677714168043}, {\"id\": \"2\", \"border_width\": 0, \"color\": \"rgba(256, 25, 0, 1.0)\", \"degree\": 4, \"node_label\": \"2\", \"node_shape\": \"dot\", \"node_size\": 50, \"title\": \"graph 1<br/>2\", \"x\": 54.1893111192922, \"y\": -871.2181169460451}, {\"id\": \"3\", \"border_width\": 0, \"color\": \"rgba(256, 25, 0, 1.0)\", \"degree\": 2, \"node_label\": \"3\", \"node_shape\": \"dot\", \"node_size\": 50, \"title\": \"graph 1<br/>3\", \"x\": -1000.0, \"y\": -203.83471980825956}, {\"id\": \"4\", \"border_width\": 0, \"color\": \"rgba(256, 25, 0, 1.0)\", \"degree\": 5, \"node_label\": \"4\", \"node_shape\": \"dot\", \"node_size\": 50, \"title\": \"graph 1<br/>4\", \"x\": -499.91315192925407, \"y\": -458.7004514256325}, {\"id\": \"5\", \"border_width\": 0, \"color\": \"rgba(256, 128, 0, 1.0)\", \"degree\": 6, \"node_label\": \"5\", \"node_shape\": \"triangle\", \"node_size\": 50, \"title\": \"graph 1 + graph 2<br/>5\", \"x\": -313.69244973335356, \"y\": 114.43533869053252}, {\"id\": \"6\", \"border_width\": 0, \"color\": \"rgba(256, 128, 0, 1.0)\", \"degree\": 5, \"node_label\": \"6\", \"node_shape\": \"triangle\", \"node_size\": 50, \"title\": \"graph 1 + graph 2<br/>6\", \"x\": -221.09457871080866, \"y\": -35.77481001421981}, {\"id\": \"7\", \"border_width\": 0, \"color\": \"rgba(256, 128, 0, 1.0)\", \"degree\": 5, \"node_label\": \"7\", \"node_shape\": \"triangle\", \"node_size\": 50, \"title\": \"graph 1 + graph 2<br/>7\", \"x\": -27.05755872009796, \"y\": -56.25979963932358}, {\"id\": \"8\", \"border_width\": 0, \"color\": \"rgba(256, 128, 0, 1.0)\", \"degree\": 5, \"node_label\": \"8\", \"node_shape\": \"triangle\", \"node_size\": 50, \"title\": \"graph 1 + graph 2<br/>8\", \"x\": -3.5008017580112023, \"y\": -185.33482308897786}, {\"id\": \"9\", \"border_width\": 0, \"color\": \"rgba(256, 128, 0, 1.0)\", \"degree\": 7, \"node_label\": \"9\", \"node_shape\": \"triangle\", \"node_size\": 50, \"title\": \"graph 1 + graph 2<br/>9\", \"x\": 220.23729646253946, \"y\": -202.20898875134657}, {\"id\": \"10\", \"border_width\": 0, \"color\": \"rgba(256, 230, 0, 1.0)\", \"degree\": 4, \"node_label\": \"10\", \"node_shape\": \"square\", \"node_size\": 50, \"title\": \"graph 2<br/>10\", \"x\": 500.21641566530093, \"y\": 324.7327169817789}, {\"id\": \"11\", \"border_width\": 0, \"color\": \"rgba(256, 230, 0, 1.0)\", \"degree\": 4, \"node_label\": \"11\", \"node_shape\": \"square\", \"node_size\": 50, \"title\": \"graph 2<br/>11\", \"x\": 445.22041884984014, \"y\": 631.1493446117779}, {\"id\": \"12\", \"border_width\": 0, \"color\": \"rgba(256, 230, 0, 1.0)\", \"degree\": 4, \"node_label\": \"12\", \"node_shape\": \"square\", \"node_size\": 50, \"title\": \"graph 2<br/>12\", \"x\": 276.93579663796027, \"y\": 984.4405273369086}, {\"id\": \"13\", \"border_width\": 0, \"color\": \"rgba(256, 230, 0, 1.0)\", \"degree\": 4, \"node_label\": \"13\", \"node_shape\": \"square\", \"node_size\": 50, \"title\": \"graph 2<br/>13\", \"x\": -74.96814642028971, \"y\": 875.4358791476575}, {\"id\": \"14\", \"border_width\": 0, \"color\": \"rgba(256, 230, 0, 1.0)\", \"degree\": 4, \"node_label\": \"14\", \"node_shape\": \"square\", \"node_size\": 50, \"title\": \"graph 2<br/>14\", \"x\": -310.1166956105684, \"y\": 667.1235346107305}], [{\"source\": 0, \"target\": 1, \"color\": \"rgba(58, 76, 192, 0.3)\"}, {\"source\": 0, \"target\": 9, \"color\": \"rgba(58, 76, 192, 0.3)\"}, {\"source\": 0, \"target\": 2, \"color\": \"rgba(58, 76, 192, 0.3)\"}, {\"source\": 1, \"target\": 2, \"color\": \"rgba(58, 76, 192, 0.3)\"}, {\"source\": 1, \"target\": 9, \"color\": \"rgba(58, 76, 192, 0.3)\"}, {\"source\": 1, \"target\": 7, \"color\": \"rgba(58, 76, 192, 0.3)\"}, {\"source\": 2, \"target\": 4, \"color\": \"rgba(58, 76, 192, 0.3)\"}, {\"source\": 2, \"target\": 9, \"color\": \"rgba(58, 76, 192, 0.3)\"}, {\"source\": 3, \"target\": 4, \"color\": \"rgba(58, 76, 192, 0.3)\"}, {\"source\": 3, \"target\": 5, \"color\": \"rgba(58, 76, 192, 0.3)\"}, {\"source\": 4, \"target\": 5, \"color\": \"rgba(58, 76, 192, 0.3)\"}, {\"source\": 4, \"target\": 6, \"color\": \"rgba(58, 76, 192, 0.3)\"}, {\"source\": 4, \"target\": 8, \"color\": \"rgba(58, 76, 192, 0.3)\"}, {\"source\": 5, \"target\": 6, \"color\": \"rgba(180, 3, 38, 0.3)\"}, {\"source\": 5, \"target\": 7, \"color\": \"rgba(180, 3, 38, 0.3)\"}, {\"source\": 5, \"target\": 13, \"color\": \"rgba(58, 76, 192, 0.3)\"}, {\"source\": 5, \"target\": 14, \"color\": \"rgba(58, 76, 192, 0.3)\"}, {\"source\": 6, \"target\": 7, \"color\": \"rgba(180, 3, 38, 0.3)\"}, {\"source\": 6, \"target\": 8, \"color\": \"rgba(180, 3, 38, 0.3)\"}, {\"source\": 6, \"target\": 14, \"color\": \"rgba(58, 76, 192, 0.3)\"}, {\"source\": 7, \"target\": 8, \"color\": \"rgba(180, 3, 38, 0.3)\"}, {\"source\": 7, \"target\": 9, \"color\": \"rgba(180, 3, 38, 0.3)\"}, {\"source\": 8, \"target\": 9, \"color\": \"rgba(180, 3, 38, 0.3)\"}, {\"source\": 8, \"target\": 10, \"color\": \"rgba(58, 76, 192, 0.3)\"}, {\"source\": 9, \"target\": 10, \"color\": \"rgba(58, 76, 192, 0.3)\"}, {\"source\": 9, \"target\": 11, \"color\": \"rgba(58, 76, 192, 0.3)\"}, {\"source\": 10, \"target\": 11, \"color\": \"rgba(58, 76, 192, 0.3)\"}, {\"source\": 10, \"target\": 12, \"color\": \"rgba(58, 76, 192, 0.3)\"}, {\"source\": 11, \"target\": 12, \"color\": \"rgba(58, 76, 192, 0.3)\"}, {\"source\": 11, \"target\": 13, \"color\": \"rgba(58, 76, 192, 0.3)\"}, {\"source\": 12, \"target\": 13, \"color\": \"rgba(58, 76, 192, 0.3)\"}, {\"source\": 12, \"target\": 14, \"color\": \"rgba(58, 76, 192, 0.3)\"}, {\"source\": 13, \"target\": 14, \"color\": \"rgba(58, 76, 192, 0.3)\"}]);}</script><iframe name=\"style_file2\" src=\"style_file2.html\" width=\"100%;\" height=\"805px\"></iframe></body></html>"
      ],
      "text/plain": [
       "<IPython.core.display.HTML object>"
      ]
     },
     "execution_count": 20,
     "metadata": {},
     "output_type": "execute_result"
    }
   ],
   "source": [
    "visualizations.draw_graph_overlap(\n",
    "    G1,G2, \n",
    "#     export_network=True,\n",
    "#     export_file='data/01.json',\n",
    "    graph_id=2, \n",
    "    node_size=50)"
   ]
  },
  {
   "cell_type": "markdown",
   "id": "ahead-gibraltar",
   "metadata": {},
   "source": [
    "### Identical nodes, some overlapping edges"
   ]
  },
  {
   "cell_type": "code",
   "execution_count": 34,
   "id": "proved-spirit",
   "metadata": {},
   "outputs": [],
   "source": [
    "G1 = nx.connected_watts_strogatz_graph(20,5,.1)\n",
    "G2 = nx.connected_watts_strogatz_graph(20,5,.1)\n",
    "edges_1 = set(G1.edges())\n",
    "edges_2 = set(G2.edges())\n",
    "intersecting_edges = edges_1 & edges_2\n",
    "# print(type(intersecting_edges))\n",
    "\n",
    "edges_1_disjoint = edges_1 - intersecting_edges\n",
    "edges_2_disjoint = edges_2 - intersecting_edges\n",
    "\n",
    "for i in range(0,5):\n",
    "    new_edge = intersecting_edges.pop()\n",
    "    edges_1_disjoint.add(new_edge)\n",
    "    edges_2_disjoint.add(new_edge)\n",
    "\n",
    "G1.remove_edges_from(edges_1)\n",
    "G1.add_edges_from(list(edges_1_disjoint))"
   ]
  },
  {
   "cell_type": "code",
   "execution_count": 36,
   "id": "better-manner",
   "metadata": {},
   "outputs": [
    {
     "data": {
      "text/html": [
       "<!doctype html><html><head>  <title>Network | Basic usage</title></head><body><script type=\"text/javascript\">function setUpFrame() {     var frame = window.frames[\"style_file1\"];    frame.runVis([{\"id\": \"0\", \"border_width\": 0, \"color\": \"rgba(50, 0, 0, 1.0)\", \"degree\": 4, \"node_label\": \"0\", \"node_shape\": \"triangle\", \"node_size\": 10, \"title\": \"graph 1 + graph 2<br/>0\", \"x\": -54.638424961801704, \"y\": -648.8664179727141}, {\"id\": \"1\", \"border_width\": 0, \"color\": \"rgba(50, 0, 0, 1.0)\", \"degree\": 4, \"node_label\": \"1\", \"node_shape\": \"triangle\", \"node_size\": 10, \"title\": \"graph 1 + graph 2<br/>1\", \"x\": -320.70750704981646, \"y\": -841.8085408021799}, {\"id\": \"2\", \"border_width\": 0, \"color\": \"rgba(50, 0, 0, 1.0)\", \"degree\": 6, \"node_label\": \"2\", \"node_shape\": \"triangle\", \"node_size\": 10, \"title\": \"graph 1 + graph 2<br/>2\", \"x\": -165.67843485594784, \"y\": -395.52324948335394}, {\"id\": \"3\", \"border_width\": 0, \"color\": \"rgba(50, 0, 0, 1.0)\", \"degree\": 5, \"node_label\": \"3\", \"node_shape\": \"triangle\", \"node_size\": 10, \"title\": \"graph 1 + graph 2<br/>3\", \"x\": -587.345625432219, \"y\": -237.250777074738}, {\"id\": \"4\", \"border_width\": 0, \"color\": \"rgba(50, 0, 0, 1.0)\", \"degree\": 5, \"node_label\": \"4\", \"node_shape\": \"triangle\", \"node_size\": 10, \"title\": \"graph 1 + graph 2<br/>4\", \"x\": -491.92035702987266, \"y\": -110.12566508685758}, {\"id\": \"5\", \"border_width\": 0, \"color\": \"rgba(50, 0, 0, 1.0)\", \"degree\": 5, \"node_label\": \"5\", \"node_shape\": \"triangle\", \"node_size\": 10, \"title\": \"graph 1 + graph 2<br/>5\", \"x\": -426.1209504561909, \"y\": 127.94350002924143}, {\"id\": \"6\", \"border_width\": 0, \"color\": \"rgba(50, 0, 0, 1.0)\", \"degree\": 4, \"node_label\": \"6\", \"node_shape\": \"triangle\", \"node_size\": 10, \"title\": \"graph 1 + graph 2<br/>6\", \"x\": -676.9806340542486, \"y\": 54.469009952239105}, {\"id\": \"7\", \"border_width\": 0, \"color\": \"rgba(50, 0, 0, 1.0)\", \"degree\": 5, \"node_label\": \"7\", \"node_shape\": \"triangle\", \"node_size\": 10, \"title\": \"graph 1 + graph 2<br/>7\", \"x\": -336.17932285710845, \"y\": 324.53910909769354}, {\"id\": \"8\", \"border_width\": 0, \"color\": \"rgba(50, 0, 0, 1.0)\", \"degree\": 5, \"node_label\": \"8\", \"node_shape\": \"triangle\", \"node_size\": 10, \"title\": \"graph 1 + graph 2<br/>8\", \"x\": -593.1792215113003, \"y\": 518.962965713983}, {\"id\": \"9\", \"border_width\": 0, \"color\": \"rgba(50, 0, 0, 1.0)\", \"degree\": 4, \"node_label\": \"9\", \"node_shape\": \"triangle\", \"node_size\": 10, \"title\": \"graph 1 + graph 2<br/>9\", \"x\": -299.46467298774525, \"y\": 888.0902713106592}, {\"id\": \"10\", \"border_width\": 0, \"color\": \"rgba(50, 0, 0, 1.0)\", \"degree\": 4, \"node_label\": \"10\", \"node_shape\": \"triangle\", \"node_size\": 10, \"title\": \"graph 1 + graph 2<br/>10\", \"x\": -64.21702084822101, \"y\": 892.7444498879709}, {\"id\": \"11\", \"border_width\": 0, \"color\": \"rgba(50, 0, 0, 1.0)\", \"degree\": 5, \"node_label\": \"11\", \"node_shape\": \"triangle\", \"node_size\": 10, \"title\": \"graph 1 + graph 2<br/>11\", \"x\": 340.9710845381341, \"y\": 760.9727769129257}, {\"id\": \"12\", \"border_width\": 0, \"color\": \"rgba(50, 0, 0, 1.0)\", \"degree\": 5, \"node_label\": \"12\", \"node_shape\": \"triangle\", \"node_size\": 10, \"title\": \"graph 1 + graph 2<br/>12\", \"x\": 197.68818590295345, \"y\": 383.51398972694864}, {\"id\": \"13\", \"border_width\": 0, \"color\": \"rgba(50, 0, 0, 1.0)\", \"degree\": 4, \"node_label\": \"13\", \"node_shape\": \"triangle\", \"node_size\": 10, \"title\": \"graph 1 + graph 2<br/>13\", \"x\": 665.5541267174405, \"y\": 520.1015467634605}, {\"id\": \"14\", \"border_width\": 0, \"color\": \"rgba(50, 0, 0, 1.0)\", \"degree\": 5, \"node_label\": \"14\", \"node_shape\": \"triangle\", \"node_size\": 10, \"title\": \"graph 1 + graph 2<br/>14\", \"x\": 347.9839009669479, \"y\": 72.87131209471714}, {\"id\": \"15\", \"border_width\": 0, \"color\": \"rgba(50, 0, 0, 1.0)\", \"degree\": 5, \"node_label\": \"15\", \"node_shape\": \"triangle\", \"node_size\": 10, \"title\": \"graph 1 + graph 2<br/>15\", \"x\": 712.1820388160979, \"y\": 147.3576222997214}, {\"id\": \"16\", \"border_width\": 0, \"color\": \"rgba(50, 0, 0, 1.0)\", \"degree\": 5, \"node_label\": \"16\", \"node_shape\": \"triangle\", \"node_size\": 10, \"title\": \"graph 1 + graph 2<br/>16\", \"x\": 346.73239170110156, \"y\": -165.68023265042712}, {\"id\": \"17\", \"border_width\": 0, \"color\": \"rgba(50, 0, 0, 1.0)\", \"degree\": 4, \"node_label\": \"17\", \"node_shape\": \"triangle\", \"node_size\": 10, \"title\": \"graph 1 + graph 2<br/>17\", \"x\": 697.2692995596419, \"y\": -527.4211603840583}, {\"id\": \"18\", \"border_width\": 0, \"color\": \"rgba(50, 0, 0, 1.0)\", \"degree\": 4, \"node_label\": \"18\", \"node_shape\": \"triangle\", \"node_size\": 10, \"title\": \"graph 1 + graph 2<br/>18\", \"x\": 462.07840445105853, \"y\": -764.8905103352276}, {\"id\": \"19\", \"border_width\": 0, \"color\": \"rgba(50, 0, 0, 1.0)\", \"degree\": 4, \"node_label\": \"19\", \"node_shape\": \"triangle\", \"node_size\": 10, \"title\": \"graph 1 + graph 2<br/>19\", \"x\": 245.97273939109687, \"y\": -1000.0}], [{\"source\": 0, \"target\": 2, \"color\": \"rgba(0, 0, 256, 0.3)\"}, {\"source\": 0, \"target\": 1, \"color\": \"rgba(0, 256, 128, 0.3)\"}, {\"source\": 0, \"target\": 19, \"color\": \"rgba(0, 256, 128, 0.3)\"}, {\"source\": 0, \"target\": 18, \"color\": \"rgba(0, 256, 128, 0.3)\"}, {\"source\": 1, \"target\": 2, \"color\": \"rgba(0, 256, 128, 0.3)\"}, {\"source\": 1, \"target\": 3, \"color\": \"rgba(0, 256, 128, 0.3)\"}, {\"source\": 1, \"target\": 19, \"color\": \"rgba(0, 256, 128, 0.3)\"}, {\"source\": 2, \"target\": 5, \"color\": \"rgba(0, 256, 128, 0.3)\"}, {\"source\": 2, \"target\": 3, \"color\": \"rgba(0, 256, 128, 0.3)\"}, {\"source\": 2, \"target\": 4, \"color\": \"rgba(0, 256, 128, 0.3)\"}, {\"source\": 2, \"target\": 12, \"color\": \"rgba(0, 256, 128, 0.3)\"}, {\"source\": 3, \"target\": 8, \"color\": \"rgba(0, 256, 128, 0.3)\"}, {\"source\": 3, \"target\": 4, \"color\": \"rgba(0, 0, 256, 0.3)\"}, {\"source\": 3, \"target\": 5, \"color\": \"rgba(0, 256, 128, 0.3)\"}, {\"source\": 4, \"target\": 6, \"color\": \"rgba(0, 0, 256, 0.3)\"}, {\"source\": 4, \"target\": 5, \"color\": \"rgba(0, 256, 128, 0.3)\"}, {\"source\": 4, \"target\": 16, \"color\": \"rgba(0, 256, 128, 0.3)\"}, {\"source\": 5, \"target\": 7, \"color\": \"rgba(0, 0, 256, 0.3)\"}, {\"source\": 5, \"target\": 6, \"color\": \"rgba(0, 256, 128, 0.3)\"}, {\"source\": 6, \"target\": 7, \"color\": \"rgba(0, 256, 128, 0.3)\"}, {\"source\": 6, \"target\": 8, \"color\": \"rgba(0, 256, 128, 0.3)\"}, {\"source\": 7, \"target\": 14, \"color\": \"rgba(0, 256, 128, 0.3)\"}, {\"source\": 7, \"target\": 8, \"color\": \"rgba(0, 256, 128, 0.3)\"}, {\"source\": 7, \"target\": 9, \"color\": \"rgba(0, 256, 128, 0.3)\"}, {\"source\": 8, \"target\": 9, \"color\": \"rgba(0, 256, 128, 0.3)\"}, {\"source\": 8, \"target\": 10, \"color\": \"rgba(0, 256, 128, 0.3)\"}, {\"source\": 9, \"target\": 10, \"color\": \"rgba(0, 256, 128, 0.3)\"}, {\"source\": 9, \"target\": 11, \"color\": \"rgba(0, 256, 128, 0.3)\"}, {\"source\": 10, \"target\": 11, \"color\": \"rgba(0, 256, 128, 0.3)\"}, {\"source\": 10, \"target\": 12, \"color\": \"rgba(0, 256, 128, 0.3)\"}, {\"source\": 11, \"target\": 12, \"color\": \"rgba(0, 256, 128, 0.3)\"}, {\"source\": 11, \"target\": 13, \"color\": \"rgba(0, 256, 128, 0.3)\"}, {\"source\": 11, \"target\": 15, \"color\": \"rgba(0, 256, 128, 0.3)\"}, {\"source\": 12, \"target\": 14, \"color\": \"rgba(0, 256, 128, 0.3)\"}, {\"source\": 12, \"target\": 13, \"color\": \"rgba(0, 256, 128, 0.3)\"}, {\"source\": 13, \"target\": 14, \"color\": \"rgba(0, 256, 128, 0.3)\"}, {\"source\": 13, \"target\": 15, \"color\": \"rgba(0, 256, 128, 0.3)\"}, {\"source\": 14, \"target\": 16, \"color\": \"rgba(0, 0, 256, 0.3)\"}, {\"source\": 14, \"target\": 15, \"color\": \"rgba(0, 256, 128, 0.3)\"}, {\"source\": 15, \"target\": 16, \"color\": \"rgba(0, 256, 128, 0.3)\"}, {\"source\": 15, \"target\": 17, \"color\": \"rgba(0, 256, 128, 0.3)\"}, {\"source\": 16, \"target\": 17, \"color\": \"rgba(0, 256, 128, 0.3)\"}, {\"source\": 16, \"target\": 18, \"color\": \"rgba(0, 256, 128, 0.3)\"}, {\"source\": 17, \"target\": 18, \"color\": \"rgba(0, 256, 128, 0.3)\"}, {\"source\": 17, \"target\": 19, \"color\": \"rgba(0, 256, 128, 0.3)\"}, {\"source\": 18, \"target\": 19, \"color\": \"rgba(0, 256, 128, 0.3)\"}]);}</script><iframe name=\"style_file1\" src=\"style_file1.html\" width=\"100%;\" height=\"805px\"></iframe></body></html>"
      ],
      "text/plain": [
       "<IPython.core.display.HTML object>"
      ]
     },
     "execution_count": 36,
     "metadata": {},
     "output_type": "execute_result"
    }
   ],
   "source": [
    "visualizations.draw_graph_overlap(\n",
    "    G1,\n",
    "    G2, \n",
    "    graph_id=1,\n",
    "#     node_cmap=mpl.cm.cool,\n",
    "    node_cmap=mpl.cm.afmhot,\n",
    "    edge_cmap=mpl.cm.winter_r,\n",
    "#     edge_cmap=mpl.cm.afmhot,\n",
    "    edge_width=5,\n",
    "    edge_shadow_enabled=False,\n",
    "#     edge_shadow_size=2,\n",
    ")"
   ]
  },
  {
   "cell_type": "markdown",
   "id": "requested-technology",
   "metadata": {},
   "source": [
    "### One network contains the other network"
   ]
  },
  {
   "cell_type": "code",
   "execution_count": 37,
   "id": "ignored-background",
   "metadata": {},
   "outputs": [],
   "source": [
    "import matplotlib.pyplot as plt\n",
    "import matplotlib as mpl\n",
    "import networkx as nx\n",
    "import visJS2jupyter.visualizations as visualizations\n",
    "import imp"
   ]
  },
  {
   "cell_type": "code",
   "execution_count": 42,
   "id": "infinite-rates",
   "metadata": {},
   "outputs": [
    {
     "data": {
      "text/html": [
       "<!doctype html><html><head>  <title>Network | Basic usage</title></head><body><script type=\"text/javascript\">function setUpFrame() {     var frame = window.frames[\"style_file0\"];    frame.runVis([{\"id\": \"0\", \"border_width\": 0, \"color\": \"rgba(256, 230, 0, 1.0)\", \"degree\": 6, \"node_label\": \"0\", \"node_shape\": \"triangle\", \"node_size\": 10, \"title\": \"superset + subset<br/>0\", \"x\": -620.2600081388713, \"y\": 200.24078723617845}, {\"id\": \"1\", \"border_width\": 0, \"color\": \"rgba(256, 230, 0, 1.0)\", \"degree\": 5, \"node_label\": \"1\", \"node_shape\": \"triangle\", \"node_size\": 10, \"title\": \"superset + subset<br/>1\", \"x\": -530.2397233865162, \"y\": 233.06973822337181}, {\"id\": \"2\", \"border_width\": 0, \"color\": \"rgba(256, 230, 0, 1.0)\", \"degree\": 5, \"node_label\": \"2\", \"node_shape\": \"triangle\", \"node_size\": 10, \"title\": \"superset + subset<br/>2\", \"x\": -529.8677082189183, \"y\": 309.92612468149696}, {\"id\": \"3\", \"border_width\": 0, \"color\": \"rgba(256, 230, 0, 1.0)\", \"degree\": 5, \"node_label\": \"3\", \"node_shape\": \"triangle\", \"node_size\": 10, \"title\": \"superset + subset<br/>3\", \"x\": -426.96311214761954, \"y\": 332.82200884026645}, {\"id\": \"4\", \"border_width\": 0, \"color\": \"rgba(256, 230, 0, 1.0)\", \"degree\": 5, \"node_label\": \"4\", \"node_shape\": \"triangle\", \"node_size\": 10, \"title\": \"superset + subset<br/>4\", \"x\": -380.3185725743129, \"y\": 371.93275572008764}, {\"id\": \"5\", \"border_width\": 0, \"color\": \"rgba(256, 230, 0, 1.0)\", \"degree\": 4, \"node_label\": \"5\", \"node_shape\": \"triangle\", \"node_size\": 10, \"title\": \"superset + subset<br/>5\", \"x\": -214.164105923895, \"y\": 415.9406769525908}, {\"id\": \"6\", \"border_width\": 0, \"color\": \"rgba(256, 230, 0, 1.0)\", \"degree\": 6, \"node_label\": \"6\", \"node_shape\": \"triangle\", \"node_size\": 10, \"title\": \"superset + subset<br/>6\", \"x\": -147.10611204013975, \"y\": 338.2977351618912}, {\"id\": \"7\", \"border_width\": 0, \"color\": \"rgba(256, 230, 0, 1.0)\", \"degree\": 4, \"node_label\": \"7\", \"node_shape\": \"triangle\", \"node_size\": 10, \"title\": \"superset + subset<br/>7\", \"x\": -37.185580589361116, \"y\": 384.1991236357271}, {\"id\": \"8\", \"border_width\": 0, \"color\": \"rgba(256, 230, 0, 1.0)\", \"degree\": 4, \"node_label\": \"8\", \"node_shape\": \"triangle\", \"node_size\": 10, \"title\": \"superset + subset<br/>8\", \"x\": 52.2038596508412, \"y\": 332.937082372741}, {\"id\": \"9\", \"border_width\": 0, \"color\": \"rgba(256, 230, 0, 1.0)\", \"degree\": 5, \"node_label\": \"9\", \"node_shape\": \"triangle\", \"node_size\": 10, \"title\": \"superset + subset<br/>9\", \"x\": 110.9371291819125, \"y\": 287.4190898300618}, {\"id\": \"10\", \"border_width\": 0, \"color\": \"rgba(256, 230, 0, 1.0)\", \"degree\": 5, \"node_label\": \"10\", \"node_shape\": \"triangle\", \"node_size\": 10, \"title\": \"superset + subset<br/>10\", \"x\": 24.960209148339516, \"y\": 184.02189459419648}, {\"id\": \"11\", \"border_width\": 0, \"color\": \"rgba(256, 230, 0, 1.0)\", \"degree\": 5, \"node_label\": \"11\", \"node_shape\": \"triangle\", \"node_size\": 10, \"title\": \"superset + subset<br/>11\", \"x\": -26.208555423985903, \"y\": 96.1637013303729}, {\"id\": \"12\", \"border_width\": 0, \"color\": \"rgba(256, 230, 0, 1.0)\", \"degree\": 5, \"node_label\": \"12\", \"node_shape\": \"triangle\", \"node_size\": 10, \"title\": \"superset + subset<br/>12\", \"x\": -10.301126731705763, \"y\": -24.6255313681692}, {\"id\": \"13\", \"border_width\": 0, \"color\": \"rgba(256, 230, 0, 1.0)\", \"degree\": 3, \"node_label\": \"13\", \"node_shape\": \"triangle\", \"node_size\": 10, \"title\": \"superset + subset<br/>13\", \"x\": -134.41141182651796, \"y\": -138.13277045367465}, {\"id\": \"14\", \"border_width\": 0, \"color\": \"rgba(256, 230, 0, 1.0)\", \"degree\": 4, \"node_label\": \"14\", \"node_shape\": \"triangle\", \"node_size\": 10, \"title\": \"superset + subset<br/>14\", \"x\": -207.26462767182983, \"y\": -192.32251704994337}, {\"id\": \"15\", \"border_width\": 0, \"color\": \"rgba(256, 230, 0, 1.0)\", \"degree\": 4, \"node_label\": \"15\", \"node_shape\": \"triangle\", \"node_size\": 10, \"title\": \"superset + subset<br/>15\", \"x\": -270.3722035980475, \"y\": -197.53804255289486}, {\"id\": \"16\", \"border_width\": 0, \"color\": \"rgba(256, 230, 0, 1.0)\", \"degree\": 6, \"node_label\": \"16\", \"node_shape\": \"triangle\", \"node_size\": 10, \"title\": \"superset + subset<br/>16\", \"x\": -315.88277660793324, \"y\": -154.5781025075183}, {\"id\": \"17\", \"border_width\": 0, \"color\": \"rgba(256, 230, 0, 1.0)\", \"degree\": 4, \"node_label\": \"17\", \"node_shape\": \"triangle\", \"node_size\": 10, \"title\": \"superset + subset<br/>17\", \"x\": -393.32205773273466, \"y\": -143.7274124441548}, {\"id\": \"18\", \"border_width\": 0, \"color\": \"rgba(256, 230, 0, 1.0)\", \"degree\": 7, \"node_label\": \"18\", \"node_shape\": \"triangle\", \"node_size\": 10, \"title\": \"superset + subset<br/>18\", \"x\": -424.2256827590795, \"y\": -56.59996426816323}, {\"id\": \"19\", \"border_width\": 0, \"color\": \"rgba(256, 230, 0, 1.0)\", \"degree\": 8, \"node_label\": \"19\", \"node_shape\": \"triangle\", \"node_size\": 10, \"title\": \"superset + subset<br/>19\", \"x\": -349.17037450507286, \"y\": -42.106382748123565}, {\"id\": \"20\", \"border_width\": 0, \"color\": \"rgba(256, 25, 0, 1.0)\", \"degree\": 4, \"node_label\": \"20\", \"node_shape\": \"dot\", \"node_size\": 10, \"title\": \"superset<br/>20\", \"x\": -176.8411276418536, \"y\": -387.73090735789015}, {\"id\": \"21\", \"border_width\": 0, \"color\": \"rgba(256, 25, 0, 1.0)\", \"degree\": 4, \"node_label\": \"21\", \"node_shape\": \"dot\", \"node_size\": 10, \"title\": \"superset<br/>21\", \"x\": 88.63115806742833, \"y\": -329.9941297766623}, {\"id\": \"22\", \"border_width\": 0, \"color\": \"rgba(256, 25, 0, 1.0)\", \"degree\": 5, \"node_label\": \"22\", \"node_shape\": \"dot\", \"node_size\": 10, \"title\": \"superset<br/>22\", \"x\": 171.65065881729416, \"y\": -588.357643880851}, {\"id\": \"23\", \"border_width\": 0, \"color\": \"rgba(256, 25, 0, 1.0)\", \"degree\": 3, \"node_label\": \"23\", \"node_shape\": \"dot\", \"node_size\": 10, \"title\": \"superset<br/>23\", \"x\": 377.5993664320374, \"y\": -992.1415200925621}, {\"id\": \"24\", \"border_width\": 0, \"color\": \"rgba(256, 25, 0, 1.0)\", \"degree\": 4, \"node_label\": \"24\", \"node_shape\": \"dot\", \"node_size\": 10, \"title\": \"superset<br/>24\", \"x\": 495.6875784719385, \"y\": -907.2751908638106}, {\"id\": \"25\", \"border_width\": 0, \"color\": \"rgba(256, 25, 0, 1.0)\", \"degree\": 4, \"node_label\": \"25\", \"node_shape\": \"dot\", \"node_size\": 10, \"title\": \"superset<br/>25\", \"x\": 622.4085122145829, \"y\": -820.7381635995519}, {\"id\": \"26\", \"border_width\": 0, \"color\": \"rgba(256, 25, 0, 1.0)\", \"degree\": 4, \"node_label\": \"26\", \"node_shape\": \"dot\", \"node_size\": 10, \"title\": \"superset<br/>26\", \"x\": 702.4090432536217, \"y\": -695.7126039920807}, {\"id\": \"27\", \"border_width\": 0, \"color\": \"rgba(256, 25, 0, 1.0)\", \"degree\": 4, \"node_label\": \"27\", \"node_shape\": \"dot\", \"node_size\": 10, \"title\": \"superset<br/>27\", \"x\": 519.648838286268, \"y\": -339.58349235267775}, {\"id\": \"28\", \"border_width\": 0, \"color\": \"rgba(256, 25, 0, 1.0)\", \"degree\": 4, \"node_label\": \"28\", \"node_shape\": \"dot\", \"node_size\": 10, \"title\": \"superset<br/>28\", \"x\": 426.34744221610805, \"y\": 166.06185804553473}, {\"id\": \"29\", \"border_width\": 0, \"color\": \"rgba(256, 25, 0, 1.0)\", \"degree\": 4, \"node_label\": \"29\", \"node_shape\": \"dot\", \"node_size\": 10, \"title\": \"superset<br/>29\", \"x\": 200.7734228869027, \"y\": 106.39505981835227}, {\"id\": \"30\", \"border_width\": 0, \"color\": \"rgba(256, 25, 0, 1.0)\", \"degree\": 5, \"node_label\": \"30\", \"node_shape\": \"dot\", \"node_size\": 10, \"title\": \"superset<br/>30\", \"x\": -99.230064821802, \"y\": 238.56532800914405}, {\"id\": \"31\", \"border_width\": 0, \"color\": \"rgba(256, 25, 0, 1.0)\", \"degree\": 5, \"node_label\": \"31\", \"node_shape\": \"dot\", \"node_size\": 10, \"title\": \"superset<br/>31\", \"x\": -151.86710433996197, \"y\": 574.2556073188948}, {\"id\": \"32\", \"border_width\": 0, \"color\": \"rgba(256, 25, 0, 1.0)\", \"degree\": 4, \"node_label\": \"32\", \"node_shape\": \"dot\", \"node_size\": 10, \"title\": \"superset<br/>32\", \"x\": 23.446897736532534, \"y\": 771.6023658823717}, {\"id\": \"33\", \"border_width\": 0, \"color\": \"rgba(256, 25, 0, 1.0)\", \"degree\": 4, \"node_label\": \"33\", \"node_shape\": \"dot\", \"node_size\": 10, \"title\": \"superset<br/>33\", \"x\": 148.9183855158842, \"y\": 953.9096154152845}, {\"id\": \"34\", \"border_width\": 0, \"color\": \"rgba(256, 25, 0, 1.0)\", \"degree\": 4, \"node_label\": \"34\", \"node_shape\": \"dot\", \"node_size\": 10, \"title\": \"superset<br/>34\", \"x\": 367.65213839418647, \"y\": 1000.0}, {\"id\": \"35\", \"border_width\": 0, \"color\": \"rgba(256, 25, 0, 1.0)\", \"degree\": 4, \"node_label\": \"35\", \"node_shape\": \"dot\", \"node_size\": 10, \"title\": \"superset<br/>35\", \"x\": 543.4645280952965, \"y\": 947.6418594943469}, {\"id\": \"36\", \"border_width\": 0, \"color\": \"rgba(256, 25, 0, 1.0)\", \"degree\": 4, \"node_label\": \"36\", \"node_shape\": \"dot\", \"node_size\": 10, \"title\": \"superset<br/>36\", \"x\": 692.9428022541493, \"y\": 769.390174443732}, {\"id\": \"37\", \"border_width\": 0, \"color\": \"rgba(256, 25, 0, 1.0)\", \"degree\": 4, \"node_label\": \"37\", \"node_shape\": \"dot\", \"node_size\": 10, \"title\": \"superset<br/>37\", \"x\": 678.7996354810955, \"y\": 573.0570120066852}, {\"id\": \"38\", \"border_width\": 0, \"color\": \"rgba(256, 25, 0, 1.0)\", \"degree\": 4, \"node_label\": \"38\", \"node_shape\": \"dot\", \"node_size\": 10, \"title\": \"superset<br/>38\", \"x\": 738.1957133853234, \"y\": 285.3481933066581}, {\"id\": \"39\", \"border_width\": 0, \"color\": \"rgba(256, 25, 0, 1.0)\", \"degree\": 4, \"node_label\": \"39\", \"node_shape\": \"dot\", \"node_size\": 10, \"title\": \"superset<br/>39\", \"x\": 563.5934463303005, \"y\": -19.417219054996355}, {\"id\": \"40\", \"border_width\": 0, \"color\": \"rgba(256, 25, 0, 1.0)\", \"degree\": 5, \"node_label\": \"40\", \"node_shape\": \"dot\", \"node_size\": 10, \"title\": \"superset<br/>40\", \"x\": 533.9092610557195, \"y\": -224.33496013961337}, {\"id\": \"41\", \"border_width\": 0, \"color\": \"rgba(256, 25, 0, 1.0)\", \"degree\": 5, \"node_label\": \"41\", \"node_shape\": \"dot\", \"node_size\": 10, \"title\": \"superset<br/>41\", \"x\": 502.8944896164409, \"y\": -506.71904397919343}, {\"id\": \"42\", \"border_width\": 0, \"color\": \"rgba(256, 25, 0, 1.0)\", \"degree\": 4, \"node_label\": \"42\", \"node_shape\": \"dot\", \"node_size\": 10, \"title\": \"superset<br/>42\", \"x\": 301.6025029337482, \"y\": -620.4469380713338}, {\"id\": \"43\", \"border_width\": 0, \"color\": \"rgba(256, 25, 0, 1.0)\", \"degree\": 4, \"node_label\": \"43\", \"node_shape\": \"dot\", \"node_size\": 10, \"title\": \"superset<br/>43\", \"x\": 61.50574061526522, \"y\": -759.649965370731}, {\"id\": \"44\", \"border_width\": 0, \"color\": \"rgba(256, 25, 0, 1.0)\", \"degree\": 4, \"node_label\": \"44\", \"node_shape\": \"dot\", \"node_size\": 10, \"title\": \"superset<br/>44\", \"x\": -134.59171412587463, \"y\": -640.3741449451109}, {\"id\": \"45\", \"border_width\": 0, \"color\": \"rgba(256, 25, 0, 1.0)\", \"degree\": 4, \"node_label\": \"45\", \"node_shape\": \"dot\", \"node_size\": 10, \"title\": \"superset<br/>45\", \"x\": -429.89093581286056, \"y\": -670.5559752376016}, {\"id\": \"46\", \"border_width\": 0, \"color\": \"rgba(256, 25, 0, 1.0)\", \"degree\": 3, \"node_label\": \"46\", \"node_shape\": \"dot\", \"node_size\": 10, \"title\": \"superset<br/>46\", \"x\": -794.4825371067751, \"y\": -481.6455067113398}, {\"id\": \"47\", \"border_width\": 0, \"color\": \"rgba(256, 25, 0, 1.0)\", \"degree\": 4, \"node_label\": \"47\", \"node_shape\": \"dot\", \"node_size\": 10, \"title\": \"superset<br/>47\", \"x\": -579.3989488957766, \"y\": -255.83327328231005}, {\"id\": \"48\", \"border_width\": 0, \"color\": \"rgba(256, 25, 0, 1.0)\", \"degree\": 4, \"node_label\": \"48\", \"node_shape\": \"dot\", \"node_size\": 10, \"title\": \"superset<br/>48\", \"x\": -850.0799852707431, \"y\": -61.87856831038056}, {\"id\": \"49\", \"border_width\": 0, \"color\": \"rgba(256, 25, 0, 1.0)\", \"degree\": 3, \"node_label\": \"49\", \"node_shape\": \"dot\", \"node_size\": 10, \"title\": \"superset<br/>49\", \"x\": -716.5366021490297, \"y\": 378.8221780913525}], [{\"source\": 0, \"target\": 1, \"color\": \"rgba(180, 3, 38, 0.3)\"}, {\"source\": 0, \"target\": 49, \"color\": \"rgba(58, 76, 192, 0.3)\"}, {\"source\": 0, \"target\": 2, \"color\": \"rgba(180, 3, 38, 0.3)\"}, {\"source\": 0, \"target\": 48, \"color\": \"rgba(58, 76, 192, 0.3)\"}, {\"source\": 0, \"target\": 19, \"color\": \"rgba(58, 76, 192, 0.3)\"}, {\"source\": 0, \"target\": 18, \"color\": \"rgba(58, 76, 192, 0.3)\"}, {\"source\": 1, \"target\": 2, \"color\": \"rgba(58, 76, 192, 0.3)\"}, {\"source\": 1, \"target\": 3, \"color\": \"rgba(180, 3, 38, 0.3)\"}, {\"source\": 1, \"target\": 19, \"color\": \"rgba(58, 76, 192, 0.3)\"}, {\"source\": 1, \"target\": 18, \"color\": \"rgba(58, 76, 192, 0.3)\"}, {\"source\": 2, \"target\": 3, \"color\": \"rgba(58, 76, 192, 0.3)\"}, {\"source\": 2, \"target\": 4, \"color\": \"rgba(180, 3, 38, 0.3)\"}, {\"source\": 2, \"target\": 19, \"color\": \"rgba(58, 76, 192, 0.3)\"}, {\"source\": 3, \"target\": 4, \"color\": \"rgba(180, 3, 38, 0.3)\"}, {\"source\": 3, \"target\": 5, \"color\": \"rgba(58, 76, 192, 0.3)\"}, {\"source\": 3, \"target\": 10, \"color\": \"rgba(58, 76, 192, 0.3)\"}, {\"source\": 4, \"target\": 5, \"color\": \"rgba(180, 3, 38, 0.3)\"}, {\"source\": 4, \"target\": 18, \"color\": \"rgba(58, 76, 192, 0.3)\"}, {\"source\": 4, \"target\": 6, \"color\": \"rgba(58, 76, 192, 0.3)\"}, {\"source\": 5, \"target\": 6, \"color\": \"rgba(180, 3, 38, 0.3)\"}, {\"source\": 5, \"target\": 7, \"color\": \"rgba(180, 3, 38, 0.3)\"}, {\"source\": 6, \"target\": 7, \"color\": \"rgba(180, 3, 38, 0.3)\"}, {\"source\": 6, \"target\": 8, \"color\": \"rgba(58, 76, 192, 0.3)\"}, {\"source\": 6, \"target\": 11, \"color\": \"rgba(58, 76, 192, 0.3)\"}, {\"source\": 6, \"target\": 16, \"color\": \"rgba(58, 76, 192, 0.3)\"}, {\"source\": 7, \"target\": 8, \"color\": \"rgba(180, 3, 38, 0.3)\"}, {\"source\": 7, \"target\": 9, \"color\": \"rgba(180, 3, 38, 0.3)\"}, {\"source\": 8, \"target\": 9, \"color\": \"rgba(180, 3, 38, 0.3)\"}, {\"source\": 8, \"target\": 10, \"color\": \"rgba(180, 3, 38, 0.3)\"}, {\"source\": 9, \"target\": 10, \"color\": \"rgba(180, 3, 38, 0.3)\"}, {\"source\": 9, \"target\": 39, \"color\": \"rgba(58, 76, 192, 0.3)\"}, {\"source\": 9, \"target\": 11, \"color\": \"rgba(58, 76, 192, 0.3)\"}, {\"source\": 10, \"target\": 11, \"color\": \"rgba(180, 3, 38, 0.3)\"}, {\"source\": 10, \"target\": 12, \"color\": \"rgba(180, 3, 38, 0.3)\"}, {\"source\": 11, \"target\": 12, \"color\": \"rgba(180, 3, 38, 0.3)\"}, {\"source\": 11, \"target\": 19, \"color\": \"rgba(58, 76, 192, 0.3)\"}, {\"source\": 12, \"target\": 13, \"color\": \"rgba(180, 3, 38, 0.3)\"}, {\"source\": 12, \"target\": 22, \"color\": \"rgba(58, 76, 192, 0.3)\"}, {\"source\": 12, \"target\": 14, \"color\": \"rgba(58, 76, 192, 0.3)\"}, {\"source\": 13, \"target\": 14, \"color\": \"rgba(180, 3, 38, 0.3)\"}, {\"source\": 13, \"target\": 15, \"color\": \"rgba(180, 3, 38, 0.3)\"}, {\"source\": 14, \"target\": 15, \"color\": \"rgba(180, 3, 38, 0.3)\"}, {\"source\": 14, \"target\": 16, \"color\": \"rgba(180, 3, 38, 0.3)\"}, {\"source\": 15, \"target\": 16, \"color\": \"rgba(180, 3, 38, 0.3)\"}, {\"source\": 15, \"target\": 17, \"color\": \"rgba(180, 3, 38, 0.3)\"}, {\"source\": 16, \"target\": 17, \"color\": \"rgba(180, 3, 38, 0.3)\"}, {\"source\": 16, \"target\": 18, \"color\": \"rgba(180, 3, 38, 0.3)\"}, {\"source\": 16, \"target\": 44, \"color\": \"rgba(58, 76, 192, 0.3)\"}, {\"source\": 17, \"target\": 18, \"color\": \"rgba(180, 3, 38, 0.3)\"}, {\"source\": 17, \"target\": 19, \"color\": \"rgba(180, 3, 38, 0.3)\"}, {\"source\": 18, \"target\": 19, \"color\": \"rgba(180, 3, 38, 0.3)\"}, {\"source\": 18, \"target\": 20, \"color\": \"rgba(58, 76, 192, 0.3)\"}, {\"source\": 19, \"target\": 20, \"color\": \"rgba(58, 76, 192, 0.3)\"}, {\"source\": 19, \"target\": 21, \"color\": \"rgba(58, 76, 192, 0.3)\"}, {\"source\": 20, \"target\": 21, \"color\": \"rgba(58, 76, 192, 0.3)\"}, {\"source\": 20, \"target\": 22, \"color\": \"rgba(58, 76, 192, 0.3)\"}, {\"source\": 21, \"target\": 22, \"color\": \"rgba(58, 76, 192, 0.3)\"}, {\"source\": 21, \"target\": 40, \"color\": \"rgba(58, 76, 192, 0.3)\"}, {\"source\": 22, \"target\": 23, \"color\": \"rgba(58, 76, 192, 0.3)\"}, {\"source\": 22, \"target\": 24, \"color\": \"rgba(58, 76, 192, 0.3)\"}, {\"source\": 23, \"target\": 24, \"color\": \"rgba(58, 76, 192, 0.3)\"}, {\"source\": 23, \"target\": 25, \"color\": \"rgba(58, 76, 192, 0.3)\"}, {\"source\": 24, \"target\": 25, \"color\": \"rgba(58, 76, 192, 0.3)\"}, {\"source\": 24, \"target\": 26, \"color\": \"rgba(58, 76, 192, 0.3)\"}, {\"source\": 25, \"target\": 26, \"color\": \"rgba(58, 76, 192, 0.3)\"}, {\"source\": 25, \"target\": 27, \"color\": \"rgba(58, 76, 192, 0.3)\"}, {\"source\": 26, \"target\": 27, \"color\": \"rgba(58, 76, 192, 0.3)\"}, {\"source\": 26, \"target\": 41, \"color\": \"rgba(58, 76, 192, 0.3)\"}, {\"source\": 27, \"target\": 28, \"color\": \"rgba(58, 76, 192, 0.3)\"}, {\"source\": 27, \"target\": 29, \"color\": \"rgba(58, 76, 192, 0.3)\"}, {\"source\": 28, \"target\": 29, \"color\": \"rgba(58, 76, 192, 0.3)\"}, {\"source\": 28, \"target\": 30, \"color\": \"rgba(58, 76, 192, 0.3)\"}, {\"source\": 28, \"target\": 37, \"color\": \"rgba(58, 76, 192, 0.3)\"}, {\"source\": 29, \"target\": 30, \"color\": \"rgba(58, 76, 192, 0.3)\"}, {\"source\": 29, \"target\": 31, \"color\": \"rgba(58, 76, 192, 0.3)\"}, {\"source\": 30, \"target\": 31, \"color\": \"rgba(58, 76, 192, 0.3)\"}, {\"source\": 30, \"target\": 32, \"color\": \"rgba(58, 76, 192, 0.3)\"}, {\"source\": 30, \"target\": 47, \"color\": \"rgba(58, 76, 192, 0.3)\"}, {\"source\": 31, \"target\": 32, \"color\": \"rgba(58, 76, 192, 0.3)\"}, {\"source\": 31, \"target\": 33, \"color\": \"rgba(58, 76, 192, 0.3)\"}, {\"source\": 31, \"target\": 49, \"color\": \"rgba(58, 76, 192, 0.3)\"}, {\"source\": 32, \"target\": 33, \"color\": \"rgba(58, 76, 192, 0.3)\"}, {\"source\": 32, \"target\": 34, \"color\": \"rgba(58, 76, 192, 0.3)\"}, {\"source\": 33, \"target\": 34, \"color\": \"rgba(58, 76, 192, 0.3)\"}, {\"source\": 33, \"target\": 35, \"color\": \"rgba(58, 76, 192, 0.3)\"}, {\"source\": 34, \"target\": 35, \"color\": \"rgba(58, 76, 192, 0.3)\"}, {\"source\": 34, \"target\": 36, \"color\": \"rgba(58, 76, 192, 0.3)\"}, {\"source\": 35, \"target\": 36, \"color\": \"rgba(58, 76, 192, 0.3)\"}, {\"source\": 35, \"target\": 37, \"color\": \"rgba(58, 76, 192, 0.3)\"}, {\"source\": 36, \"target\": 37, \"color\": \"rgba(58, 76, 192, 0.3)\"}, {\"source\": 36, \"target\": 38, \"color\": \"rgba(58, 76, 192, 0.3)\"}, {\"source\": 37, \"target\": 38, \"color\": \"rgba(58, 76, 192, 0.3)\"}, {\"source\": 38, \"target\": 39, \"color\": \"rgba(58, 76, 192, 0.3)\"}, {\"source\": 38, \"target\": 40, \"color\": \"rgba(58, 76, 192, 0.3)\"}, {\"source\": 39, \"target\": 40, \"color\": \"rgba(58, 76, 192, 0.3)\"}, {\"source\": 39, \"target\": 41, \"color\": \"rgba(58, 76, 192, 0.3)\"}, {\"source\": 40, \"target\": 41, \"color\": \"rgba(58, 76, 192, 0.3)\"}, {\"source\": 40, \"target\": 42, \"color\": \"rgba(58, 76, 192, 0.3)\"}, {\"source\": 41, \"target\": 42, \"color\": \"rgba(58, 76, 192, 0.3)\"}, {\"source\": 41, \"target\": 43, \"color\": \"rgba(58, 76, 192, 0.3)\"}, {\"source\": 42, \"target\": 43, \"color\": \"rgba(58, 76, 192, 0.3)\"}, {\"source\": 42, \"target\": 44, \"color\": \"rgba(58, 76, 192, 0.3)\"}, {\"source\": 43, \"target\": 44, \"color\": \"rgba(58, 76, 192, 0.3)\"}, {\"source\": 43, \"target\": 45, \"color\": \"rgba(58, 76, 192, 0.3)\"}, {\"source\": 44, \"target\": 45, \"color\": \"rgba(58, 76, 192, 0.3)\"}, {\"source\": 45, \"target\": 46, \"color\": \"rgba(58, 76, 192, 0.3)\"}, {\"source\": 45, \"target\": 47, \"color\": \"rgba(58, 76, 192, 0.3)\"}, {\"source\": 46, \"target\": 47, \"color\": \"rgba(58, 76, 192, 0.3)\"}, {\"source\": 46, \"target\": 48, \"color\": \"rgba(58, 76, 192, 0.3)\"}, {\"source\": 47, \"target\": 48, \"color\": \"rgba(58, 76, 192, 0.3)\"}, {\"source\": 48, \"target\": 49, \"color\": \"rgba(58, 76, 192, 0.3)\"}]);}</script><iframe name=\"style_file0\" src=\"style_file0.html\" width=\"100%;\" height=\"805px\"></iframe></body></html>"
      ],
      "text/plain": [
       "<IPython.core.display.HTML object>"
      ]
     },
     "execution_count": 42,
     "metadata": {},
     "output_type": "execute_result"
    }
   ],
   "source": [
    "G1 = nx.connected_watts_strogatz_graph(50,5,.1)\n",
    "G2 = nx.connected_watts_strogatz_graph(20,5,.1)\n",
    "visualizations.draw_graph_overlap(\n",
    "    G1,\n",
    "    G2,\n",
    "    edge_width=5,\n",
    "    node_name_1=\"superset\",\n",
    "    node_name_2=\"subset\",\n",
    "    physics_enabled=False)"
   ]
  },
  {
   "cell_type": "code",
   "execution_count": null,
   "id": "aerial-track",
   "metadata": {},
   "outputs": [],
   "source": []
  }
 ],
 "metadata": {
  "kernelspec": {
   "display_name": "Python 3",
   "language": "python",
   "name": "python3"
  },
  "language_info": {
   "codemirror_mode": {
    "name": "ipython",
    "version": 3
   },
   "file_extension": ".py",
   "mimetype": "text/x-python",
   "name": "python",
   "nbconvert_exporter": "python",
   "pygments_lexer": "ipython3",
   "version": "3.8.5"
  }
 },
 "nbformat": 4,
 "nbformat_minor": 5
}
