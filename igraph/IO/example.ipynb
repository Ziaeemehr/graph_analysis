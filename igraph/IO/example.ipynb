{
 "cells": [
  {
   "cell_type": "code",
   "execution_count": 3,
   "metadata": {},
   "outputs": [],
   "source": [
    "from igraph import *\n",
    "import numpy as np \n",
    "import igraph\n",
    "# from pprint import pprint"
   ]
  },
  {
   "cell_type": "code",
   "execution_count": 5,
   "metadata": {},
   "outputs": [
    {
     "output_type": "stream",
     "name": "stdout",
     "text": [
      "IGRAPH D--- 5 2 --\n+ edges:\n0->1 1->2\n<class 'igraph.datatypes.Matrix'>\n[[0, 1, 0, 0, 0]\n [0, 0, 1, 0, 0]\n [0, 0, 0, 0, 0]\n [0, 0, 0, 0, 0]\n [0, 0, 0, 0, 0]]\nis directed:  True\n"
     ]
    }
   ],
   "source": [
    "g = Graph(directed=True)\n",
    "g.add_vertices(5)\n",
    "g.add_edges([(0,1), (1,2)])\n",
    "print(g)\n",
    "adjmat = g.get_adjacency() \n",
    "print(type(adjmat))\n",
    "print(adjmat)\n",
    "print(\"is directed: \", g.is_directed())"
   ]
  },
  {
   "cell_type": "code",
   "execution_count": 28,
   "metadata": {},
   "outputs": [],
   "source": [
    "# read adjacency from file"
   ]
  },
  {
   "cell_type": "code",
   "execution_count": 7,
   "metadata": {},
   "outputs": [
    {
     "output_type": "stream",
     "name": "stdout",
     "text": [
      "<class 'numpy.ndarray'>\n(5, 5)\nIGRAPH D--- 3 2 -- \nFalse\n[[0, 1, 0]\n [0, 0, 1]\n [0, 0, 0]]\n[[1], [2], []]\n"
     ]
    }
   ],
   "source": [
    "adj = g.get_adjacency()\n",
    "adj = np.asarray(adj.data)\n",
    "print(type(adj))\n",
    "print(adj.shape)\n",
    "\n",
    "conn_indices = np.where(adj)\n",
    "weights = adj[conn_indices]\n",
    "edges = list(zip(*conn_indices))\n",
    "G = igraph.Graph(edges=edges, directed=True)\n",
    "print(G.summary())\n",
    "# G.es['weight'] = weights\n",
    "print(G.is_connected())\n",
    "print(G.get_adjacency())\n",
    "print(G.get_adjlist())"
   ]
  },
  {
   "cell_type": "code",
   "execution_count": 8,
   "metadata": {},
   "outputs": [],
   "source": [
    "G.write_adjacency(\"adj.txt\")"
   ]
  },
  {
   "cell_type": "code",
   "execution_count": 9,
   "metadata": {},
   "outputs": [],
   "source": [
    "G.write_edgelist(\"edgelist.txt\")"
   ]
  }
 ],
 "metadata": {
  "kernelspec": {
   "name": "python385jvsc74a57bd031f2aee4e71d21fbe5cf8b01ff0e069b9275f58929596ceb00d14d90e3e16cd6",
   "display_name": "Python 3.8.5 64-bit"
  },
  "language_info": {
   "codemirror_mode": {
    "name": "ipython",
    "version": 3
   },
   "file_extension": ".py",
   "mimetype": "text/x-python",
   "name": "python",
   "nbconvert_exporter": "python",
   "pygments_lexer": "ipython3",
   "version": "3.8.5"
  },
  "metadata": {
   "interpreter": {
    "hash": "31f2aee4e71d21fbe5cf8b01ff0e069b9275f58929596ceb00d14d90e3e16cd6"
   }
  }
 },
 "nbformat": 4,
 "nbformat_minor": 4
}