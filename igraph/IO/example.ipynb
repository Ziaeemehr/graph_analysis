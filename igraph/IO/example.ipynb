{
 "cells": [
  {
   "cell_type": "code",
   "execution_count": 11,
   "metadata": {},
   "outputs": [],
   "source": [
    "from igraph import *\n",
    "import numpy as np \n",
    "import igraph"
   ]
  },
  {
   "cell_type": "code",
   "execution_count": 27,
   "metadata": {},
   "outputs": [
    {
     "name": "stdout",
     "output_type": "stream",
     "text": [
      "IGRAPH D--- 5 2 --\n",
      "+ edges:\n",
      "0->1 1->2\n",
      "[[0, 1, 0, 0, 0]\n",
      " [0, 0, 1, 0, 0]\n",
      " [0, 0, 0, 0, 0]\n",
      " [0, 0, 0, 0, 0]\n",
      " [0, 0, 0, 0, 0]]\n",
      "is directed:  True\n"
     ]
    }
   ],
   "source": [
    "g = Graph(directed=True)\n",
    "g.add_vertices(5)\n",
    "g.add_edges([(0,1), (1,2)])\n",
    "print(g)\n",
    "print(g.get_adjacency())\n",
    "print(\"is directed: \", g.is_directed())"
   ]
  },
  {
   "cell_type": "code",
   "execution_count": 28,
   "metadata": {},
   "outputs": [],
   "source": [
    "# read adjacency from file"
   ]
  },
  {
   "cell_type": "code",
   "execution_count": 39,
   "metadata": {},
   "outputs": [
    {
     "name": "stdout",
     "output_type": "stream",
     "text": [
      "IGRAPH D--- 3 2 -- \n",
      "False\n",
      "[[0, 1, 0]\n",
      " [0, 0, 1]\n",
      " [0, 0, 0]]\n"
     ]
    }
   ],
   "source": [
    "adj = g.get_adjacency()\n",
    "adj = np.asarray(adj.data)\n",
    "# print(type(adj))\n",
    "# print(adj.shape)\n",
    "\n",
    "conn_indices = np.where(adj)\n",
    "weights = adj[conn_indices]\n",
    "edges = list(zip(*conn_indices))\n",
    "G = igraph.Graph(edges=edges, directed=True)\n",
    "print(G.summary())\n",
    "# G.es['weight'] = weights\n",
    "print(G.is_connected())\n",
    "print(G.get_adjacency())\n"
   ]
  },
  {
   "cell_type": "code",
   "execution_count": null,
   "metadata": {},
   "outputs": [],
   "source": []
  }
 ],
 "metadata": {
  "kernelspec": {
   "display_name": "Python 3.6.9 64-bit",
   "language": "python",
   "name": "python36964bit3ec0dbbd46ae448585f9bbd63312a519"
  },
  "language_info": {
   "codemirror_mode": {
    "name": "ipython",
    "version": 3
   },
   "file_extension": ".py",
   "mimetype": "text/x-python",
   "name": "python",
   "nbconvert_exporter": "python",
   "pygments_lexer": "ipython3",
   "version": "3.6.9"
  }
 },
 "nbformat": 4,
 "nbformat_minor": 4
}
